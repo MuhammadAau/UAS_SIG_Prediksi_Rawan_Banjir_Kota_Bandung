{
  "nbformat": 4,
  "nbformat_minor": 0,
  "metadata": {
    "colab": {
      "provenance": []
    },
    "kernelspec": {
      "name": "python3",
      "display_name": "Python 3"
    },
    "language_info": {
      "name": "python"
    }
  },
  "cells": [
    {
      "cell_type": "code",
      "execution_count": 1,
      "metadata": {
        "id": "OOfxC6Zt4ekA"
      },
      "outputs": [],
      "source": [
        "# ====================================\n",
        "# 1. Install dan Import Library\n",
        "# ====================================\n",
        "!pip install geopandas folium scikit-learn --quiet\n",
        "\n",
        "import pandas as pd\n",
        "import numpy as np\n",
        "import folium\n",
        "from folium.plugins import MarkerCluster\n",
        "from sklearn.ensemble import RandomForestClassifier\n",
        "from sklearn.model_selection import train_test_split\n",
        "from sklearn.metrics import classification_report, accuracy_score\n"
      ]
    },
    {
      "cell_type": "code",
      "source": [
        "# ====================================\n",
        "# 2. Load Dataset (pastikan sudah diunggah ke Colab)\n",
        "# ====================================\n",
        "curah_hujan = pd.read_csv(\"1_Bandung_curah_hujan_full.csv\")\n",
        "non_spasial = pd.read_csv(\"2_Bandung_non_spasial_full.csv\")\n",
        "riwayat_banjir = pd.read_csv(\"3_Bandung_riwayat_banjir_full.csv\")\n",
        "penggunaan_lahan = pd.read_csv(\"4_Bandung_penggunaan_lahan_full.csv\")\n",
        "prediksi_banjir = pd.read_csv(\"5_Bandung_prediksi_banjir_full.csv\")\n"
      ],
      "metadata": {
        "id": "sGrFHjyh4kJe"
      },
      "execution_count": 2,
      "outputs": []
    },
    {
      "cell_type": "code",
      "source": [
        "# ====================================\n",
        "# 3. Preprocessing dan Gabungkan Data\n",
        "# ====================================\n",
        "curah_mean = curah_hujan.groupby(\"kecamatan\")[\"curah_hujan_mm\"].mean().reset_index()\n",
        "banjir_total = riwayat_banjir.groupby(\"kecamatan\")[\"jumlah_banjir\"].sum().reset_index()\n",
        "\n",
        "df = curah_mean.merge(non_spasial, on=\"kecamatan\") \\\n",
        "               .merge(banjir_total, on=\"kecamatan\") \\\n",
        "               .merge(penggunaan_lahan, on=\"kecamatan\") \\\n",
        "               .merge(prediksi_banjir, on=\"kecamatan\")\n",
        "\n",
        "df['label'] = df['Prediksi_Banjir'].map({\"Rendah\": 0, \"Sedang\": 1, \"Tinggi\": 2})"
      ],
      "metadata": {
        "id": "3Yjn_A384mPI"
      },
      "execution_count": 3,
      "outputs": []
    },
    {
      "cell_type": "code",
      "source": [
        "# ====================================\n",
        "# 4. Model Prediksi dengan Random Forest\n",
        "# ====================================\n",
        "X = df[[\"curah_hujan_mm\", \"jumlah_penduduk\", \"kepadatan_jiwa_km2\",\n",
        "        \"jumlah_banjir\", \"permukiman_persen\", \"ruang_terbuka_hijau_persen\"]]\n",
        "y = df[\"label\"]\n",
        "\n",
        "X_train, X_test, y_train, y_test = train_test_split(X, y, test_size=0.2, random_state=42)\n",
        "model = RandomForestClassifier(n_estimators=100, random_state=42)\n",
        "model.fit(X_train, y_train)\n",
        "\n",
        "y_pred = model.predict(X_test)\n",
        "print(\"Akurasi Model:\", accuracy_score(y_test, y_pred))\n",
        "print(classification_report(y_test, y_pred))"
      ],
      "metadata": {
        "colab": {
          "base_uri": "https://localhost:8080/"
        },
        "id": "F2rDa17V4o1r",
        "outputId": "4c15a023-6e57-47cc-8d0c-6897bf640af8"
      },
      "execution_count": 4,
      "outputs": [
        {
          "output_type": "stream",
          "name": "stdout",
          "text": [
            "Akurasi Model: 0.0\n",
            "              precision    recall  f1-score   support\n",
            "\n",
            "           0       0.00      0.00      0.00       4.0\n",
            "           1       0.00      0.00      0.00       2.0\n",
            "           2       0.00      0.00      0.00       1.0\n",
            "\n",
            "    accuracy                           0.00       7.0\n",
            "   macro avg       0.00      0.00      0.00       7.0\n",
            "weighted avg       0.00      0.00      0.00       7.0\n",
            "\n"
          ]
        }
      ]
    },
    {
      "cell_type": "code",
      "source": [
        "\n",
        "# ====================================\n",
        "# 5. Koordinat Tiap Kecamatan Bandung\n",
        "# ====================================\n",
        "kec_coords = {\n",
        "    \"Andir\": (-6.9131, 107.5733), \"Antapani\": (-6.9002, 107.6473), \"Arcamanik\": (-6.8989, 107.6790),\n",
        "    \"Astanaanyar\": (-6.9266, 107.5997), \"Babakan Ciparay\": (-6.9355, 107.5777), \"Bandung Kidul\": (-6.9580, 107.6374),\n",
        "    \"Bandung Kulon\": (-6.9275, 107.5620), \"Bandung Wetan\": (-6.9020, 107.6197), \"Batununggal\": (-6.9337, 107.6327),\n",
        "    \"Bojongloa Kaler\": (-6.9432, 107.5784), \"Bojongloa Kidul\": (-6.9484, 107.6027), \"Buahbatu\": (-6.9475, 107.6467),\n",
        "    \"Cibeunying Kaler\": (-6.8879, 107.6274), \"Cibeunying Kidul\": (-6.9024, 107.6442), \"Cibiru\": (-6.8865, 107.7163),\n",
        "    \"Cicendo\": (-6.9001, 107.5958), \"Cidadap\": (-6.8585, 107.6001), \"Cinambo\": (-6.8991, 107.7007),\n",
        "    \"Coblong\": (-6.8827, 107.6109), \"Gedebage\": (-6.9603, 107.7112), \"Kiaracondong\": (-6.9290, 107.6557),\n",
        "    \"Lengkong\": (-6.9261, 107.6228), \"Mandala Jati\": (-6.8946, 107.6653), \"Panyileukan\": (-6.9047, 107.7126),\n",
        "    \"Rancasari\": (-6.9542, 107.6950), \"Regol\": (-6.9436, 107.6145), \"Sukajadi\": (-6.8824, 107.5771),\n",
        "    \"Sukasari\": (-6.8672, 107.5814), \"Sumur Bandung\": (-6.9171, 107.6091), \"Ujungberung\": (-6.8866, 107.7111)\n",
        "}\n",
        "\n",
        "df['lat'] = df['kecamatan'].map(lambda x: kec_coords.get(x, (0, 0))[0])\n",
        "df['lon'] = df['kecamatan'].map(lambda x: kec_coords.get(x, (0, 0))[1])"
      ],
      "metadata": {
        "id": "aHJv1rat4rwv"
      },
      "execution_count": 5,
      "outputs": []
    },
    {
      "cell_type": "code",
      "source": [
        "# ====================================\n",
        "# 6. Visualisasi Interaktif dengan Folium (cerah, petak, label, legenda)\n",
        "# ====================================\n",
        "import branca.colormap as cm\n",
        "\n",
        "# Gunakan peta cerah dan profesional\n",
        "m = folium.Map(location=[-6.9, 107.6], zoom_start=12, tiles='CartoDB Positron')\n",
        "\n",
        "color_map = {0: 'green', 1: 'orange', 2: 'red'}\n",
        "label_map = {0: 'Rendah', 1: 'Sedang', 2: 'Tinggi'}\n",
        "\n",
        "# Plot kotak dan label di peta\n",
        "for _, row in df.iterrows():\n",
        "    bounds = [\n",
        "        [row['lat'] - 0.004, row['lon'] - 0.004],\n",
        "        [row['lat'] + 0.004, row['lon'] + 0.004]\n",
        "    ]\n",
        "\n",
        "    folium.Rectangle(\n",
        "        bounds=bounds,\n",
        "        color=color_map[row['label']],\n",
        "        fill=True,\n",
        "        fill_opacity=0.6,\n",
        "        weight=1,\n",
        "        popup=folium.Popup(\n",
        "            f\"\"\"\n",
        "            <b>Kecamatan:</b> {row['kecamatan']}<br>\n",
        "            <b>Prediksi:</b> {label_map[row['label']]}<br>\n",
        "            <b>Curah Hujan:</b> {row['curah_hujan_mm']} mm<br>\n",
        "            <b>Jumlah Banjir:</b> {row['jumlah_banjir']}\n",
        "            \"\"\", max_width=300)\n",
        "    ).add_to(m)\n",
        "\n",
        "    # Tambah label nama kecamatan\n",
        "    folium.Marker(\n",
        "        [row['lat'], row['lon']],\n",
        "        icon=folium.DivIcon(html=f\"\"\"\n",
        "            <div style='font-size:10pt; color:black; text-shadow: 1px 1px 2px white;'>\n",
        "                <b>{row['kecamatan']}</b>\n",
        "            </div>\"\"\")\n",
        "    ).add_to(m)\n",
        "\n",
        "# Tambah legenda\n",
        "legend_html = '''\n",
        "<div style=\"\n",
        "    position: fixed;\n",
        "    bottom: 40px;\n",
        "    left: 40px;\n",
        "    width: 170px;\n",
        "    height: 120px;\n",
        "    background-color: rgba(255, 255, 255, 0.9);\n",
        "    border:2px solid #444;\n",
        "    z-index:9999;\n",
        "    font-size:14px;\n",
        "    padding:10px;\n",
        "    box-shadow: 2px 2px 6px rgba(0,0,0,0.5);\n",
        "\">\n",
        "<b>Legenda Risiko Banjir</b><br>\n",
        "<i style=\"background:green;width:12px;height:12px;display:inline-block;\"></i>&nbsp;Rendah<br>\n",
        "<i style=\"background:orange;width:12px;height:12px;display:inline-block;\"></i>&nbsp;Sedang<br>\n",
        "<i style=\"background:red;width:12px;height:12px;display:inline-block;\"></i>&nbsp;Tinggi<br>\n",
        "</div>\n",
        "'''\n",
        "m.get_root().html.add_child(folium.Element(legend_html))\n",
        "\n",
        "\n",
        "\n"
      ],
      "metadata": {
        "colab": {
          "base_uri": "https://localhost:8080/"
        },
        "id": "vPnwphDq41Jh",
        "outputId": "a9ed03e9-01f2-49b0-c8be-a2f253ec2480"
      },
      "execution_count": 17,
      "outputs": [
        {
          "output_type": "execute_result",
          "data": {
            "text/plain": [
              "<branca.element.Element at 0x79956a8f4050>"
            ]
          },
          "metadata": {},
          "execution_count": 17
        }
      ]
    },
    {
      "cell_type": "code",
      "source": [
        "# ====================================\n",
        "# 7. Simpan Peta Sebagai File HTML & Unduh\n",
        "# ====================================\n",
        "m.save(\"peta_prediksi_banjir_bandung.html\")\n",
        "\n",
        "# Untuk mengunduh ke lokal\n",
        "from google.colab import files\n",
        "files.download(\"peta_prediksi_banjir_bandung.html\")"
      ],
      "metadata": {
        "colab": {
          "base_uri": "https://localhost:8080/",
          "height": 17
        },
        "id": "ndII-8_F4409",
        "outputId": "1f843f0f-0de2-4a09-fd19-2c5a0b35f883"
      },
      "execution_count": 18,
      "outputs": [
        {
          "output_type": "display_data",
          "data": {
            "text/plain": [
              "<IPython.core.display.Javascript object>"
            ],
            "application/javascript": [
              "\n",
              "    async function download(id, filename, size) {\n",
              "      if (!google.colab.kernel.accessAllowed) {\n",
              "        return;\n",
              "      }\n",
              "      const div = document.createElement('div');\n",
              "      const label = document.createElement('label');\n",
              "      label.textContent = `Downloading \"${filename}\": `;\n",
              "      div.appendChild(label);\n",
              "      const progress = document.createElement('progress');\n",
              "      progress.max = size;\n",
              "      div.appendChild(progress);\n",
              "      document.body.appendChild(div);\n",
              "\n",
              "      const buffers = [];\n",
              "      let downloaded = 0;\n",
              "\n",
              "      const channel = await google.colab.kernel.comms.open(id);\n",
              "      // Send a message to notify the kernel that we're ready.\n",
              "      channel.send({})\n",
              "\n",
              "      for await (const message of channel.messages) {\n",
              "        // Send a message to notify the kernel that we're ready.\n",
              "        channel.send({})\n",
              "        if (message.buffers) {\n",
              "          for (const buffer of message.buffers) {\n",
              "            buffers.push(buffer);\n",
              "            downloaded += buffer.byteLength;\n",
              "            progress.value = downloaded;\n",
              "          }\n",
              "        }\n",
              "      }\n",
              "      const blob = new Blob(buffers, {type: 'application/binary'});\n",
              "      const a = document.createElement('a');\n",
              "      a.href = window.URL.createObjectURL(blob);\n",
              "      a.download = filename;\n",
              "      div.appendChild(a);\n",
              "      a.click();\n",
              "      div.remove();\n",
              "    }\n",
              "  "
            ]
          },
          "metadata": {}
        },
        {
          "output_type": "display_data",
          "data": {
            "text/plain": [
              "<IPython.core.display.Javascript object>"
            ],
            "application/javascript": [
              "download(\"download_36309805-54ce-46fc-b226-efa87bb1bfe5\", \"peta_prediksi_banjir_bandung.html\", 64363)"
            ]
          },
          "metadata": {}
        }
      ]
    }
  ]
}